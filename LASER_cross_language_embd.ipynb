{
  "nbformat": 4,
  "nbformat_minor": 0,
  "metadata": {
    "colab": {
      "name": "LASER_cross_language_embd.ipynb",
      "provenance": [],
      "toc_visible": true,
      "include_colab_link": true
    },
    "kernelspec": {
      "name": "python3",
      "display_name": "Python 3"
    }
  },
  "cells": [
    {
      "cell_type": "markdown",
      "metadata": {
        "id": "view-in-github",
        "colab_type": "text"
      },
      "source": [
        "<a href=\"https://colab.research.google.com/github/ioannispartalas/CrossLingual-NLP-AMLD2020/blob/master/LASER_cross_language_embd.ipynb\" target=\"_parent\"><img src=\"https://colab.research.google.com/assets/colab-badge.svg\" alt=\"Open In Colab\"/></a>"
      ]
    },
    {
      "cell_type": "markdown",
      "metadata": {
        "id": "a9x6-u2lxYkP",
        "colab_type": "text"
      },
      "source": [
        "# Cross lingual processing and Transfer Learning using multi-linguale embedding\n",
        "\n",
        "Facebook AI has released a multilingual toolkit called LASER (Language-Agnostic SEntence Representations) relying on sequence to sequence autoencoder. Sequence encoder has the undisputable advantage to process directly language sentences and thus apture their internal structures.\n",
        "\n",
        "LASER has been trained over more than 100 languages which permits to project through the encoder any sentences from those languages in a common representation, called multi-lingual embedding  space.\n",
        "<figure>\n",
        "<img src= \"https://engineering.fb.com/wp-content/uploads/2019/01/CodeBlog_embedding_space_v4.png\" style= \"width=45%\">\n",
        " <figcaption>Fig.1 - Multinlingual embedding.</figcaption>\n",
        "</figure>\n",
        "\n",
        "On this notebook, we will work on a multilingual dataset containing sentences in four languages: english, dutch, spanish and russian. Every sentence of every language comes along a with sentiment label indicating positive or negative content. There is no sentence overlapp between idioms. We directly provide the sentence embedding for all langauges. Every sentence is represented by a 1024 dimensional vector indicating its position in LASER."
      ]
    },
    {
      "cell_type": "code",
      "metadata": {
        "id": "9qnXLnDSxFCL",
        "colab_type": "code",
        "outputId": "aaf28f9a-5d92-43e7-c831-22227666687a",
        "colab": {
          "base_uri": "https://localhost:8080/",
          "height": 221
        }
      },
      "source": [
        "#Let's download the dataset\n",
        "!git clone https://github.com/ioannispartalas/CrossLingual-NLP-AMLD2020.git\n",
        "#Data are in copied in ./CrossLingual-NLP-AMLD2020/data/laser/ of your colab local filesystem\n",
        "!ls ./CrossLingual-NLP-AMLD2020/data/laser/"
      ],
      "execution_count": 1,
      "outputs": [
        {
          "output_type": "stream",
          "text": [
            "Cloning into 'CrossLingual-NLP-AMLD2020'...\n",
            "remote: Enumerating objects: 80, done.\u001b[K\n",
            "remote: Counting objects: 100% (80/80), done.\u001b[K\n",
            "remote: Compressing objects: 100% (63/63), done.\u001b[K\n",
            "remote: Total 80 (delta 30), reused 33 (delta 9), pack-reused 0\u001b[K\n",
            "Unpacking objects: 100% (80/80), done.\n",
            "en_laser_test.npy\t  es_test_labels_adan.txt   ru_laser_test.npy\n",
            "en_laser_train.npy\t  es_train_labels_adan.txt  ru_laser_train.npy\n",
            "en_test_labels_adan.txt   nl_laser_test.npy\t    ru_test_labels_adan.txt\n",
            "en_train_labels_adan.txt  nl_laser_train.npy\t    ru_train_labels_adan.txt\n",
            "es_laser_test.npy\t  nl_test_labels_adan.txt\n",
            "es_laser_train.npy\t  nl_train_labels_adan.txt\n"
          ],
          "name": "stdout"
        }
      ]
    },
    {
      "cell_type": "markdown",
      "metadata": {
        "id": "v5uVWdjc4US0",
        "colab_type": "text"
      },
      "source": [
        "The dataset is made of numpy files:\n",
        "```\n",
        "'en_laser_train.npy'\n",
        "'en_laser_test.npy'\n",
        "'nl_laser_test.npy'\n",
        "...\n",
        "```\n",
        "containing respectively training and test set for every language. \n",
        "\n",
        "Corresponding labels are stored in \n",
        "```\n",
        "en_train_labels_adan.txt\n",
        "en_test_labels_adan.txt\n",
        "nl_laser_train.npy\n",
        "...\n",
        "```\n"
      ]
    },
    {
      "cell_type": "code",
      "metadata": {
        "id": "kLIhEatowOB4",
        "colab_type": "code",
        "colab": {}
      },
      "source": [
        "import numpy as np\n",
        "import pandas as pd\n",
        "import tensorflow as tf\n",
        "import tensorflow.keras as keras\n",
        "import tensorflow.keras.backend as K \n",
        "from tensorflow.keras.wrappers.scikit_learn import KerasClassifier \n",
        "from sklearn.metrics import f1_score, confusion_matrix\n",
        "from sklearn.model_selection import StratifiedKFold\n",
        "from sklearn.model_selection import cross_val_score\n",
        "import random as rn"
      ],
      "execution_count": 0,
      "outputs": []
    },
    {
      "cell_type": "code",
      "metadata": {
        "id": "oApGXIl8jU2Q",
        "colab_type": "code",
        "colab": {}
      },
      "source": [
        "np.random.seed(12)\n",
        "rn.seed(1236)\n",
        "tf.set_random_seed(1234)"
      ],
      "execution_count": 0,
      "outputs": []
    },
    {
      "cell_type": "code",
      "metadata": {
        "id": "E_2XcQxaMZUE",
        "colab_type": "code",
        "colab": {}
      },
      "source": [
        "def f1(y_true, y_pred):\n",
        "    y_pred = K.round(y_pred)\n",
        "    tp = K.sum(K.cast(y_true*y_pred, 'float'), axis=0)\n",
        "    # tn = K.sum(K.cast((1-y_true)*(1-y_pred), 'float'), axis=0)\n",
        "    fp = K.sum(K.cast((1-y_true)*y_pred, 'float'), axis=0)\n",
        "    fn = K.sum(K.cast(y_true*(1-y_pred), 'float'), axis=0)\n",
        "\n",
        "    p = tp / (tp + fp + K.epsilon())\n",
        "    r = tp / (tp + fn + K.epsilon())\n",
        "\n",
        "    f1 = 2*p*r / (p+r+K.epsilon())\n",
        "    f1 = tf.where(tf.is_nan(f1), tf.zeros_like(f1), f1)\n",
        "    return K.mean(f1)\n",
        "\n",
        "\n",
        "def matthews(y_true, y_pred):\n",
        "    y_pred = K.round(y_pred)\n",
        "    tp = K.sum(K.cast(y_true*y_pred, 'float'), axis=0)\n",
        "    tn = K.sum(K.cast((1-y_true)*(1-y_pred), 'float'), axis=0)\n",
        "    fp = K.sum(K.cast((1-y_true)*y_pred, 'float'), axis=0)\n",
        "    fn = K.sum(K.cast(y_true*(1-y_pred), 'float'), axis=0)\n",
        "\n",
        "    p = tp / (tp + fp + K.epsilon())\n",
        "    r = tp / (tp + fn + K.epsilon())\n",
        "\n",
        "    mcc = (tp*tn - fp*fn) / K.sqrt((tp+fp)*(tp+fn)*(tn+fp)*(tn+fn))\n",
        "    mcc = tf.where(tf.is_nan(mcc), tf.zeros_like(mcc), mcc)\n",
        "    return K.mean(mcc)\n",
        "    \n",
        "def set_model(dims,l2_reg):\n",
        "  model =keras.Sequential()\n",
        "  model.add(keras.layers.Input(shape = (1024,)))\n",
        "  for d in dims:\n",
        "      model.add(keras.layers.Dense(d,activation = 'relu',kernel_regularizer = keras.regularizers.l2(l2_reg)))\n",
        "  model.add(keras.layers.Dense(2,activation = 'softmax', kernel_regularizer = keras.regularizers.l2(l2_reg)))\n",
        "  model.compile(loss='binary_crossentropy',\n",
        "                optimizer=adam,\n",
        "                metrics=[f1])\n",
        "  return model\n",
        "\n"
      ],
      "execution_count": 0,
      "outputs": []
    },
    {
      "cell_type": "code",
      "metadata": {
        "id": "LZAqYWf6_8nY",
        "colab_type": "code",
        "colab": {}
      },
      "source": [
        "def load_data(lang, train_or_test):\n",
        "    path = './CrossLingual-NLP-AMLD2020/data/laser/'\n",
        "    feat_fn =  path  + lang + '_laser_' + train_or_test + '.npy'\n",
        "    label_fn = path  + lang + '_' + train_or_test + '_labels_adan.txt'\n",
        "    labels = np.loadtxt(label_fn) \n",
        "    kk = np.squeeze(np.where(labels != 2))\n",
        "    feat = np.load(feat_fn)[kk]\n",
        "    labels = keras.utils.to_categorical(labels[kk]-1,3)[:,[0,2]]\n",
        "    return feat,labels\n",
        "\n",
        "def load_language(lang):\n",
        "  train_feat, train_labels = load_data(lang,'train')\n",
        "  test_feat, test_labels = load_data(lang,'test')\n",
        "  return train_feat,train_labels,test_feat,test_labels\n",
        "\n",
        "def cross_lang_evaluation(model):\n",
        "  languages = ['nl','en','es','ru']\n",
        "  A = {}\n",
        "  for lang in languages:\n",
        "    x_test,y_test = load_data(lang, 'test')\n",
        "    _, acc = model.evaluate(x_test, y_test, batch_size=x_test.shape[0],verbose = 0)\n",
        "    A[lang] = acc\n",
        "  return A\n",
        "\n"
      ],
      "execution_count": 0,
      "outputs": []
    },
    {
      "cell_type": "code",
      "metadata": {
        "id": "3AK12hePjHC-",
        "colab_type": "code",
        "outputId": "a64c3337-49d1-48c5-ea58-48f7f21c01f2",
        "colab": {
          "base_uri": "https://localhost:8080/",
          "height": 51
        }
      },
      "source": [
        "x_train,y_train,x_test,y_test = load_language('en')  \n",
        "es = keras.callbacks.EarlyStopping(monitor='val_loss', mode='min', verbose=1, patience =50)\n",
        "reg = np.logspace(-6,-3,4)\n",
        "acc = []\n",
        "for l2 in reg:\n",
        "  model = set_model([],l2)\n",
        "  history = model.fit(x_train, y_train,\n",
        "            epochs=20000,\n",
        "            batch_size=16,\n",
        "            verbose =0,\n",
        "            validation_split = 0.2,\n",
        "            callbacks = [es])\n",
        "  a = history.history['val_f1'][len(history.history['val_f1'])-49]\n",
        "  acc.append( (a,l2,model,history))\n"
      ],
      "execution_count": 0,
      "outputs": [
        {
          "output_type": "stream",
          "text": [
            "Epoch 00167: early stopping\n",
            "Epoch 00158: early stopping\n"
          ],
          "name": "stdout"
        }
      ]
    },
    {
      "cell_type": "code",
      "metadata": {
        "id": "pU1No16mLALv",
        "colab_type": "code",
        "colab": {}
      },
      "source": [
        "print(acc)"
      ],
      "execution_count": 0,
      "outputs": []
    },
    {
      "cell_type": "code",
      "metadata": {
        "id": "JST345hVHPo0",
        "colab_type": "code",
        "colab": {}
      },
      "source": [
        "print(history.history.keys())\n",
        "print(np.max(history.history['val_f1']))\n",
        "print(history.history['val_f1'][len(history.history['val_f1'])-49])"
      ],
      "execution_count": 0,
      "outputs": []
    },
    {
      "cell_type": "code",
      "metadata": {
        "id": "xObSlLL5uo9a",
        "colab_type": "code",
        "colab": {}
      },
      "source": [
        "mx = max([v for v,_,_,_ in acc])\n",
        "final_reg = [r for v,r,_,_ in acc if v ==mx][0]\n",
        "final_model = [model for v,_, model,_ in acc if v ==mx][0]\n",
        "final_history = [h for v,_, _,h in acc if v ==mx][0]\n",
        "print(final_reg,mx)"
      ],
      "execution_count": 0,
      "outputs": []
    },
    {
      "cell_type": "code",
      "metadata": {
        "id": "WYLsmIJLpPu3",
        "colab_type": "code",
        "outputId": "2e6aea5b-2dd9-4937-f0ad-1bc99f51e54a",
        "colab": {
          "base_uri": "https://localhost:8080/",
          "height": 303
        }
      },
      "source": [
        "import matplotlib.pyplot as plt\n",
        "plt.plot( final_history.history['loss'])\n",
        "plt.plot(final_history.history['val_loss'])\n",
        "print(confusion_matrix(np.argmax(y_test,axis =1),model.predict_classes(x_test)))"
      ],
      "execution_count": 0,
      "outputs": [
        {
          "output_type": "stream",
          "text": [
            "[[382  39]\n",
            " [ 44  91]]\n"
          ],
          "name": "stdout"
        },
        {
          "output_type": "display_data",
          "data": {
            "image/png": "[encoded data removed]",
            "text/plain": [
              "<Figure size 432x288 with 1 Axes>"
            ]
          },
          "metadata": {
            "tags": []
          }
        }
      ]
    },
    {
      "cell_type": "code",
      "metadata": {
        "id": "K5QyhIvxCTjT",
        "colab_type": "code",
        "outputId": "6ce62c1a-b797-4418-d460-d3acee516ca1",
        "colab": {
          "base_uri": "https://localhost:8080/",
          "height": 34
        }
      },
      "source": [
        "A = cross_lang_evaluation(final_model)\n",
        "print(A)"
      ],
      "execution_count": 0,
      "outputs": [
        {
          "output_type": "stream",
          "text": [
            "{'nl': 0.8075324, 'en': 0.79332423, 'es': 0.8080615, 'ru': 0.8138392}\n"
          ],
          "name": "stdout"
        }
      ]
    },
    {
      "cell_type": "code",
      "metadata": {
        "id": "OgzmBJYaDyRm",
        "colab_type": "code",
        "colab": {}
      },
      "source": [
        "x_train =[]\n",
        "y_train =[]\n",
        "x_test =[]\n",
        "y_test =[]\n",
        "for lang in languages:\n",
        "  x_tr,y_tr,x_te,y_te = load_language(lang)  \n",
        "  x_train.append(x_tr)\n",
        "  y_train.append(y_tr)\n",
        "  x_test.append(x_te)\n",
        "  y_test.append(y_te)\n",
        "\n",
        "\n",
        "x_train =np.vstack(x_train)\n",
        "y_train =np.vstack(y_train)\n",
        "x_test =np.vstack(x_test)\n",
        "y_test =np.vstack(y_test)"
      ],
      "execution_count": 0,
      "outputs": []
    },
    {
      "cell_type": "code",
      "metadata": {
        "id": "EsXvcBAZEyi6",
        "colab_type": "code",
        "outputId": "aebe8a32-8d4d-468a-de0f-6bb44c7aaa38",
        "colab": {
          "base_uri": "https://localhost:8080/",
          "height": 85
        }
      },
      "source": [
        "for l2 in reg:\n",
        "  model = set_model([],l2)\n",
        "  history = model.fit(x_train, y_train,\n",
        "            epochs=20000,\n",
        "            batch_size=16,\n",
        "            verbose =0,\n",
        "            validation_split = 0.2,\n",
        "            callbacks = [es])\n",
        "  a = history.history['val_f1'][len(history.history['val_f1'])-49]\n",
        "  acc.append( (a,l2,model,history))\n"
      ],
      "execution_count": 0,
      "outputs": [
        {
          "output_type": "stream",
          "text": [
            "Epoch 00208: early stopping\n",
            "Epoch 00221: early stopping\n",
            "Epoch 00211: early stopping\n",
            "Epoch 00191: early stopping\n"
          ],
          "name": "stdout"
        }
      ]
    },
    {
      "cell_type": "code",
      "metadata": {
        "id": "G7lWdhNGCk0q",
        "colab_type": "code",
        "outputId": "15fb1473-eb39-48fd-ece5-3c756a356bee",
        "colab": {
          "base_uri": "https://localhost:8080/",
          "height": 34
        }
      },
      "source": [
        "mx = max([v for v,_,_,_ in acc])\n",
        "final_reg = [r for v,r,_,_ in acc if v ==mx][0]\n",
        "final_model = [model for v,_, model,_ in acc if v ==mx][0]\n",
        "final_history = [h for v,_, _,h in acc if v ==mx][0]\n",
        "print(final_reg,mx)"
      ],
      "execution_count": 0,
      "outputs": [
        {
          "output_type": "stream",
          "text": [
            "0.001 0.7974188\n"
          ],
          "name": "stdout"
        }
      ]
    },
    {
      "cell_type": "code",
      "metadata": {
        "id": "lLhpTilvEe_M",
        "colab_type": "code",
        "outputId": "6aacb2a6-266b-44db-dd4c-2107d5c7c980",
        "colab": {
          "base_uri": "https://localhost:8080/",
          "height": 282
        }
      },
      "source": [
        "import matplotlib.pyplot as plt\n",
        "plt.plot( final_history.history['loss'])\n",
        "plt.plot(final_history.history['val_loss'])\n",
        "\n",
        "x_test, y_test = load_data('en','test')\n",
        "_,macro_f1 = model.evaluate(x_test, y_test, batch_size=x_test.shape[0],verbose = 0)\n",
        "print(macro_f1)"
      ],
      "execution_count": 0,
      "outputs": [
        {
          "output_type": "stream",
          "text": [
            "0.83828664\n"
          ],
          "name": "stdout"
        },
        {
          "output_type": "display_data",
          "data": {
            "image/png": "[encoded data removed]",
            "text/plain": [
              "<Figure size 432x288 with 1 Axes>"
            ]
          },
          "metadata": {
            "tags": []
          }
        }
      ]
    },
    {
      "cell_type": "code",
      "metadata": {
        "id": "gJEkbMwMEjgq",
        "colab_type": "code",
        "outputId": "caf44bf7-aaec-4909-a684-14652d9b08d8",
        "colab": {
          "base_uri": "https://localhost:8080/",
          "height": 54
        }
      },
      "source": [
        "print (acc)"
      ],
      "execution_count": 0,
      "outputs": [
        {
          "output_type": "stream",
          "text": [
            "[(0.745152, 1e-06, <tensorflow.python.keras.engine.sequential.Sequential object at 0x7fdbc4586128>, <tensorflow.python.keras.callbacks.History object at 0x7fdbc4570128>), (0.74961734, 1e-05, <tensorflow.python.keras.engine.sequential.Sequential object at 0x7fdbc484a198>, <tensorflow.python.keras.callbacks.History object at 0x7fdbc44b6048>), (0.7478022, 0.0001, <tensorflow.python.keras.engine.sequential.Sequential object at 0x7fdbc44b6470>, <tensorflow.python.keras.callbacks.History object at 0x7fdbc43ee198>), (0.7471888, 0.001, <tensorflow.python.keras.engine.sequential.Sequential object at 0x7fdbc43ee710>, <tensorflow.python.keras.callbacks.History object at 0x7fdbc433f2b0>), (0.7830908, 1e-06, <tensorflow.python.keras.engine.sequential.Sequential object at 0x7fdbc41da400>, <tensorflow.python.keras.callbacks.History object at 0x7fdbc41eaf28>), (0.7921606, 1e-05, <tensorflow.python.keras.engine.sequential.Sequential object at 0x7fdbc418c9b0>, <tensorflow.python.keras.callbacks.History object at 0x7fdbc4009eb8>), (0.7660916, 0.0001, <tensorflow.python.keras.engine.sequential.Sequential object at 0x7fdbc407aeb8>, <tensorflow.python.keras.callbacks.History object at 0x7fdbc3ee31d0>), (0.7974188, 0.001, <tensorflow.python.keras.engine.sequential.Sequential object at 0x7fdbc3f31278>, <tensorflow.python.keras.callbacks.History object at 0x7fdbc3dc4710>), (0.7796722, 1e-06, <tensorflow.python.keras.engine.sequential.Sequential object at 0x7fdbc3b02a58>, <tensorflow.python.keras.callbacks.History object at 0x7fdbc3afae80>), (0.77117085, 1e-05, <tensorflow.python.keras.engine.sequential.Sequential object at 0x7fdbc3b02c18>, <tensorflow.python.keras.callbacks.History object at 0x7fdbc3a3e278>), (0.7817827, 0.0001, <tensorflow.python.keras.engine.sequential.Sequential object at 0x7fdbc3a3e518>, <tensorflow.python.keras.callbacks.History object at 0x7fdbc390b390>), (0.77652514, 0.001, <tensorflow.python.keras.engine.sequential.Sequential object at 0x7fdbc390b940>, <tensorflow.python.keras.callbacks.History object at 0x7fdbc3866f98>), (0.79048544, 1e-06, <tensorflow.python.keras.engine.sequential.Sequential object at 0x7fdbc3b02240>, <tensorflow.python.keras.callbacks.History object at 0x7fdbc36e8be0>), (0.7847343, 1e-05, <tensorflow.python.keras.engine.sequential.Sequential object at 0x7fdbc36f0278>, <tensorflow.python.keras.callbacks.History object at 0x7fdbc3632320>), (0.78902125, 0.0001, <tensorflow.python.keras.engine.sequential.Sequential object at 0x7fdbc362bcf8>, <tensorflow.python.keras.callbacks.History object at 0x7fdbc35842b0>), (0.77575433, 0.001, <tensorflow.python.keras.engine.sequential.Sequential object at 0x7fdbc3571da0>, <tensorflow.python.keras.callbacks.History object at 0x7fdbc34481d0>)]\n"
          ],
          "name": "stdout"
        }
      ]
    },
    {
      "cell_type": "code",
      "metadata": {
        "id": "GZXzSjMZ-xQ3",
        "colab_type": "code",
        "colab": {}
      },
      "source": [
        ""
      ],
      "execution_count": 0,
      "outputs": []
    }
  ]
}