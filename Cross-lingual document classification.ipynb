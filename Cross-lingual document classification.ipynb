{
 "cells": [
  {
   "cell_type": "markdown",
   "metadata": {},
   "source": [
    "# Problem description\n",
    "\n",
    "Cross-lingual document classification (CLDC) is the text mining problem where we are given:\n",
    "- labeled documents for training in a source language $\\ell_1$, and \n",
    "- test documents written in a target language $\\ell_2$. \n",
    "\n",
    "For example, the training documents are written in English, and the test documents are written in French. \n",
    "\n",
    "\n",
    "CLDC is an interesting problem. The hope is that we can use resource-rich languages to train models that can be applied to resource-deprived languages. This would result in transferring knowledge from one language to another. \n",
    "There are several methods that can be used in this context. In this workshop we start from naive approaches and progressively introduce more complex solutions. \n",
    "\n",
    "The most naive solution is to ignore the fact the training and test documents are written in different languages.  "
   ]
  },
  {
   "cell_type": "code",
   "execution_count": 1,
   "metadata": {},
   "outputs": [
    {
     "name": "stdout",
     "output_type": "stream",
     "text": [
      "/home/ipartalas/projects/LASER/\n",
      "/home/ipartalas/projects/LASER/\n"
     ]
    }
   ],
   "source": [
    "import pandas as pd\n",
    "from sklearn.metrics import accuracy_score,f1_score\n",
    "from sklearn.feature_extraction.text import CountVectorizer, TfidfVectorizer\n",
    "from sklearn.linear_model import LogisticRegression\n",
    "from sklearn.pipeline import Pipeline, make_pipeline\n",
    "from sklearn.dummy import DummyClassifier\n",
    "from sklearn.neighbors import KNeighborsClassifier\n",
    "\n",
    "from sklearn.base import BaseEstimator, ClassifierMixin\n",
    "from sklearn.utils.validation import check_X_y\n",
    "from sklearn.utils.multiclass import unique_labels\n",
    "from sklearn.feature_extraction.text import CountVectorizer\n",
    "\n",
    "from collections import Counter\n",
    "from utils import *\n",
    "from dataset import *\n",
    "from models import *"
   ]
  },
  {
   "cell_type": "markdown",
   "metadata": {},
   "source": [
    "1. Dataset: holds the data of sources and target language\n",
    "2. System: This is a set of steps: Does fit, predict. Can be in the form of a pipeline also\n",
    "3. Experiment: Given a Dataset and a System it fits, predicts and reports evaluation scores"
   ]
  },
  {
   "cell_type": "code",
   "execution_count": 11,
   "metadata": {},
   "outputs": [
    {
     "name": "stdout",
     "output_type": "stream",
     "text": [
      "\n",
      "Training data\n",
      "==========\n",
      "Training Data Shape:  (1635, 2)\n",
      "Class distribution:  {'positive': 1114, 'negative': 521}\n",
      "\n",
      "Training data\n",
      "==========\n",
      "Training Data Shape:  (644, 2)\n",
      "Class distribution:  {'positive': 455, 'negative': 189}\n",
      "Loaded 3315 vectors\n",
      "Loaded 1139 vectors\n"
     ]
    }
   ],
   "source": [
    "exp = Dataset(\"./data/datasets/\",\"en\", \"es\")\n",
    "exp.load_data()\n",
    "exp.load_cl_embeddings(\"../NLP/sentiment_classification/embeddings/\",300,False)\n"
   ]
  },
  {
   "cell_type": "code",
   "execution_count": 12,
   "metadata": {},
   "outputs": [
    {
     "name": "stderr",
     "output_type": "stream",
     "text": [
      "/home/ipartalas/virtual_envs/semeval-exps/lib/python3.7/site-packages/sklearn/dummy.py:132: FutureWarning: The default value of strategy will change from stratified to prior in 0.24.\n",
      "  \"stratified to prior in 0.24.\", FutureWarning)\n"
     ]
    },
    {
     "data": {
      "text/plain": [
       "0.2544529262086514"
      ]
     },
     "execution_count": 12,
     "metadata": {},
     "output_type": "execute_result"
    }
   ],
   "source": [
    "# Majority Class\n",
    "pipeline = Pipeline([('vectorizer', CountVectorizer()), \n",
    "                     ('classifier', DummyClassifier())])\n",
    "runner = Runner(pipeline, exp)\n",
    "runner.eval_system()"
   ]
  },
  {
   "cell_type": "code",
   "execution_count": 13,
   "metadata": {},
   "outputs": [
    {
     "data": {
      "text/plain": [
       "0.3515625"
      ]
     },
     "execution_count": 13,
     "metadata": {},
     "output_type": "execute_result"
    }
   ],
   "source": [
    "# Logistic Regression on words\n",
    "pipeline = Pipeline([('vectorizer', CountVectorizer(lowercase=True)), \n",
    "                     ('classifier', LogisticRegression(solver=\"lbfgs\"))])\n",
    "runner = Runner(pipeline, exp)\n",
    "runner.eval_system()"
   ]
  },
  {
   "cell_type": "code",
   "execution_count": 14,
   "metadata": {},
   "outputs": [
    {
     "data": {
      "text/plain": [
       "0.5617529880478088"
      ]
     },
     "execution_count": 14,
     "metadata": {},
     "output_type": "execute_result"
    }
   ],
   "source": [
    "params = {\"n_neighbors\":2}\n",
    "avg_baseline = nBowClassifier(\"knn\",exp.source_embeddings,exp.target_embeddings,params)\n",
    "\n",
    "pipeline = Pipeline([('vectorizer', CountVectorizer(lowercase=True,vocabulary=exp.vocab_)), \n",
    "                     ('classifier', avg_baseline)])\n",
    "\n",
    "runner = Runner(pipeline, exp)\n",
    "runner.eval_system()"
   ]
  },
  {
   "cell_type": "code",
   "execution_count": 16,
   "metadata": {},
   "outputs": [
    {
     "name": "stdout",
     "output_type": "stream",
     "text": [
      " - Encoder: loading /home/ipartalas/projects/LASER/models/bilstm.93langs.2018-12-26.pt\n",
      " - Tokenizer: temp_in_docs.txt in language en  \n",
      " - fast BPE: processing tok\n",
      " - Encoder: bpe to out.raw\n",
      " - Encoder: 1635 sentences in 6s\n",
      " - Encoder: loading /home/ipartalas/projects/LASER/models/bilstm.93langs.2018-12-26.pt\n",
      " - Tokenizer: temp_in_docs.txt in language es  \n",
      " - fast BPE: processing tok\n",
      " - Encoder: bpe to out.raw\n",
      " - Encoder: 644 sentences in 6s\n"
     ]
    },
    {
     "data": {
      "text/plain": [
       "0.6493506493506493"
      ]
     },
     "execution_count": 16,
     "metadata": {},
     "output_type": "execute_result"
    }
   ],
   "source": [
    "params = {\"n_neighbors\":2}\n",
    "laser_clf = LASERClassifier(\"knn\",exp.source_lang,exp.target_lang,params)\n",
    "\n",
    "pipeline = Pipeline([(\"doc2laser\",Doc2Laser()),('classifier', laser_clf)])\n",
    "pipeline.set_params(doc2laser__lang=exp.source_lang)\n",
    "pipeline.fit(exp.train,exp.y_train)\n",
    "\n",
    "runner = Runner(pipeline, exp)\n",
    "\n",
    "pipeline.set_params(doc2laser__lang=ex.target_lang)\n",
    "runner.eval_system(prefit=True)"
   ]
  },
  {
   "cell_type": "code",
   "execution_count": null,
   "metadata": {},
   "outputs": [],
   "source": []
  },
  {
   "cell_type": "code",
   "execution_count": null,
   "metadata": {},
   "outputs": [],
   "source": []
  }
 ],
 "metadata": {
  "kernelspec": {
   "display_name": "Python 3",
   "language": "python",
   "name": "python3"
  },
  "language_info": {
   "codemirror_mode": {
    "name": "ipython",
    "version": 3
   },
   "file_extension": ".py",
   "mimetype": "text/x-python",
   "name": "python",
   "nbconvert_exporter": "python",
   "pygments_lexer": "ipython3",
   "version": "3.7.2"
  }
 },
 "nbformat": 4,
 "nbformat_minor": 2
}
