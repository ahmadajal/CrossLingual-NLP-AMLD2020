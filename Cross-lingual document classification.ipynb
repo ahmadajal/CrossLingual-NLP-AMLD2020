{
 "cells": [
  {
   "cell_type": "markdown",
   "metadata": {},
   "source": [
    "# Problem description\n",
    "\n",
    "Cross-lingual document classification (CLDC) is the text mining problem where we are given:\n",
    "- labeled documents for training in a source language $\\ell_1$, and \n",
    "- test documents written in a target language $\\ell_2$. \n",
    "\n",
    "For example, the training documents are written in English, and the test documents are written in French. \n",
    "\n",
    "\n",
    "CLDC is an interesting problem. The hope is that we can use resource-rich languages to train models that can be applied to resource-deprived languages. This would result in transferring knowledge from one language to another. \n",
    "There are several methods that can be used in this context. In this workshop we start from naive approaches and progressively introduce more complex solutions. \n",
    "\n",
    "The most naive solution is to ignore the fact the training and test documents are written in different languages.  "
   ]
  },
  {
   "cell_type": "code",
   "execution_count": 33,
   "metadata": {},
   "outputs": [],
   "source": [
    "import pandas as pd\n",
    "from ast import literal_eval\n",
    "from sklearn.metrics import accuracy_score,f1_score\n",
    "from sklearn.feature_extraction.text import CountVectorizer, TfidfVectorizer\n",
    "from sklearn.linear_model import LogisticRegression\n",
    "from sklearn.pipeline import Pipeline, make_pipeline\n",
    "from sklearn.dummy import DummyClassifier\n",
    "from sklearn.neighbors import KNeighborsClassifier\n",
    "\n",
    "from sklearn.base import BaseEstimator, ClassifierMixin\n",
    "from sklearn.utils.validation import check_X_y\n",
    "from sklearn.utils.multiclass import unique_labels\n",
    "from sklearn.feature_extraction.text import CountVectorizer\n",
    "\n",
    "from collections import Counter\n",
    "from utils import *"
   ]
  },
  {
   "cell_type": "markdown",
   "metadata": {},
   "source": [
    "1. Dataset: holds the data of sources and target language\n",
    "2. System: This is a set of steps: Does fit, predict. Can be in the form of a pipeline also\n",
    "3. Experiment: Given a Dataset and a System it fits, predicts and reports evaluation scores"
   ]
  },
  {
   "cell_type": "code",
   "execution_count": 40,
   "metadata": {},
   "outputs": [],
   "source": [
    "class Dataset:\n",
    "    \"\"\"Experiment class, that reads data in raw format and prints stats.\"\"\"\n",
    "    def __init__(self, pathtodata,source_lang, target_lang):\n",
    "        self.source_lang = source_lang\n",
    "        self.target_lang = target_lang\n",
    "        self.tr_path = pathtodata+\"semeval15.%s.train.csv\" % source_lang\n",
    "        self.te_path = pathtodata+\"semeval15.%s.test.csv\" % target_lang\n",
    "    \n",
    "    @staticmethod\n",
    "    def read_csv(path):\n",
    "        df = pd.read_csv(path)\n",
    "        df['polarities'] = df['polarities'].apply(lambda l: literal_eval(l))\n",
    "        df = df.loc[df.polarities.astype(bool)]\n",
    "        df['sentiment'] = df['polarities'].apply(lambda l: Counter(l).most_common(1)[0][0])\n",
    "        return df[['text', 'sentiment']]\n",
    "\n",
    "    def load_data(self):\n",
    "        training = self.read_csv(self.tr_path)\n",
    "        test = self.read_csv(self.te_path)\n",
    "        print(\"\\nTraining data\\n==========\")\n",
    "        self.calculate_stats(training)\n",
    "        print(\"\\nTraining data\\n==========\")\n",
    "        self.calculate_stats(test)\n",
    "        self.train, self.y_train = training.text.values, training.sentiment.values\n",
    "        self.test, self.y_test = test.text.values, test.sentiment.values\n",
    "\n",
    "    # Function to load the Cross-lingual embeddings for each language\n",
    "    def load_cl_embeddings(self,path_to_embeddings,dimension,skip_header):\n",
    "        self.vocab_source = fit_vocab(self.train)\n",
    "        self.vocab_target = fit_vocab(self.test)\n",
    "        \n",
    "        # full vocabulary\n",
    "        self.vocab_ = fit_vocab(np.concatenate((self.train,self.test)))\n",
    "        \n",
    "        self.source_embeddings = load_embeddings(path_to_embeddings+\"concept_net_1706.300.\"+self.source_lang, dimension,skip_header=skip_header,vocab=self.vocab_)\n",
    "        self.target_embeddings = load_embeddings(path_to_embeddings+\"concept_net_1706.300.\"+self.target_lang, dimension,skip_header=skip_header,vocab=self.vocab_)\n",
    "        \n",
    "        self.source_embeddings = sort_embeddings(self.source_embeddings,self.vocab_)\n",
    "        self.target_embeddings = sort_embeddings(self.target_embeddings,self.vocab_)\n",
    "        \n",
    "        \n",
    "    def calculate_stats(self, df):\n",
    "        print(\"Training Data Shape: \", df.shape)\n",
    "        print(\"Class distribution: \", df.sentiment.value_counts().to_dict())\n",
    "\n",
    "        \n",
    "class Runner:\n",
    "    def __init__(self, pipeline, experiment):\n",
    "        self.pipeline = pipeline\n",
    "        self.experiment = experiment\n",
    "        #self.experiment.load_data()\n",
    "        \n",
    "    def score(self, preds):\n",
    "        #return accuracy_score(exp.y_test, preds)\n",
    "        return f1_score(exp.y_test, preds,average=\"macro\")\n",
    "    def eval_system(self):\n",
    "        pipeline.fit(exp.train, exp.y_train)\n",
    "        preds = pipeline.predict(exp.test)\n",
    "        scores = self.score(preds)\n",
    "        return scores"
   ]
  },
  {
   "cell_type": "code",
   "execution_count": 47,
   "metadata": {},
   "outputs": [],
   "source": [
    "class nBowClassifier(BaseEstimator, ClassifierMixin):\n",
    "\n",
    "    def __init__(self, base_classifier = \"knn\",V_source=None,V_target=None,params={}):\n",
    "        self.base_classifier = base_classifier\n",
    "        self.V_source = V_source\n",
    "        self.V_target = V_target\n",
    "        self.params = params\n",
    "        \n",
    "        if base_classifier ==\"knn\":\n",
    "            self.clf = KNeighborsClassifier(**params)\n",
    "        #elif base_classifier==\"mlp\" #TODO: add support for an MPL classifier\n",
    "        else:\n",
    "            raise ValueError(\"Unknown base classifier\")\n",
    "\n",
    "    # neural bag-of-words baseline\n",
    "    # average word embeddings of each document\n",
    "    # V_emb: this holds the embedding of each word\n",
    "    # X: the vectorized array of documents. Note that the indices of the features should correspond to the same indices in the V_emb array\n",
    "    def _nBOW(self,V_emb,X):\n",
    "        X_avg = []\n",
    "        for doc in X:\n",
    "            doc_vecs = V_emb[doc.indices,:]\n",
    "            avg_vec = np.sum((doc_vecs*doc.data[:,np.newaxis]),axis=0)/(doc.data.sum() + 1.0)\n",
    "            X_avg.append(avg_vec)\n",
    "        \n",
    "        return np.array(X_avg)\n",
    "    \n",
    "    def fit(self, X, y):\n",
    "\n",
    "        # Store the classes seen during fit\n",
    "        self.classes_ = unique_labels(y)\n",
    "        \n",
    "        X_avg = self._nBOW(self.V_source,X)\n",
    "        self.n_samples, self.n_features = X_avg.shape\n",
    "        \n",
    "        # Check that X and y have correct shape\n",
    "        X_avg, y = check_X_y(X_avg, y,accept_sparse=False)\n",
    "        \n",
    "        self.clf.fit(X_avg,y)\n",
    "        # Return the classifier\n",
    "        return self\n",
    "\n",
    "    def predict(self, X):\n",
    "\n",
    "        # Check is fit had been called\n",
    "        # check_is_fitted(self, ['X_', 'y_'])\n",
    "\n",
    "        # Input validation\n",
    "        #X = check_array(X)\n",
    "        X_avg = self._nBOW(self.V_target,X)\n",
    "        predictions = self.clf.predict(X_avg)\n",
    "        \n",
    "        return predictions"
   ]
  },
  {
   "cell_type": "code",
   "execution_count": 42,
   "metadata": {},
   "outputs": [
    {
     "name": "stdout",
     "output_type": "stream",
     "text": [
      "\n",
      "Training data\n",
      "==========\n",
      "Training Data Shape:  (1708, 2)\n",
      "Class distribution:  {'positive': 1114, 'negative': 521, 'neutral': 73}\n",
      "\n",
      "Training data\n",
      "==========\n",
      "Training Data Shape:  (677, 2)\n",
      "Class distribution:  {'positive': 455, 'negative': 189, 'neutral': 33}\n",
      "Loaded 3383 vectors\n",
      "Loaded 1169 vectors\n"
     ]
    }
   ],
   "source": [
    "exp = Dataset(\"../NLP/sentiment_classification/data/clean_data/\",\"en\", \"es\")\n",
    "exp.load_data()\n",
    "exp.load_cl_embeddings(\"../NLP/sentiment_classification/embeddings/\",300,False)\n"
   ]
  },
  {
   "cell_type": "code",
   "execution_count": 43,
   "metadata": {},
   "outputs": [
    {
     "data": {
      "text/plain": [
       "0.327541248060116"
      ]
     },
     "execution_count": 43,
     "metadata": {},
     "output_type": "execute_result"
    }
   ],
   "source": [
    "# Majority Class\n",
    "pipeline = Pipeline([('vectorizer', CountVectorizer()), \n",
    "                     ('classifier', DummyClassifier())])\n",
    "runner = Runner(pipeline, exp)\n",
    "runner.eval_system()"
   ]
  },
  {
   "cell_type": "code",
   "execution_count": 55,
   "metadata": {},
   "outputs": [
    {
     "name": "stderr",
     "output_type": "stream",
     "text": [
      "/home/ipartalas/virtual_envs/semeval-exps/lib/python3.7/site-packages/sklearn/linear_model/logistic.py:469: FutureWarning: Default multi_class will be changed to 'auto' in 0.22. Specify the multi_class option to silence this warning.\n",
      "  \"this warning.\", FutureWarning)\n",
      "/home/ipartalas/virtual_envs/semeval-exps/lib/python3.7/site-packages/sklearn/metrics/classification.py:1437: UndefinedMetricWarning: F-score is ill-defined and being set to 0.0 in labels with no predicted samples.\n",
      "  'precision', 'predicted', average, warn_for)\n"
     ]
    },
    {
     "data": {
      "text/plain": [
       "0.38649930974693864"
      ]
     },
     "execution_count": 55,
     "metadata": {},
     "output_type": "execute_result"
    }
   ],
   "source": [
    "# Logistic Regression on words\n",
    "pipeline = Pipeline([('vectorizer', CountVectorizer(lowercase=True)), \n",
    "                     ('classifier', LogisticRegression(solver=\"lbfgs\"))])\n",
    "runner = Runner(pipeline, exp)\n",
    "runner.eval_system()"
   ]
  },
  {
   "cell_type": "code",
   "execution_count": 60,
   "metadata": {},
   "outputs": [
    {
     "data": {
      "text/plain": [
       "0.49088213651906676"
      ]
     },
     "execution_count": 60,
     "metadata": {},
     "output_type": "execute_result"
    }
   ],
   "source": [
    "params = {\"n_neighbors\":5}\n",
    "avg_baseline = nBowClassifier(\"knn\",exp.source_embeddings,exp.target_embeddings,params)\n",
    "\n",
    "pipeline = Pipeline([('vectorizer', CountVectorizer(lowercase=True,vocabulary=exp.vocab_)), \n",
    "                     ('classifier', avg_baseline)])\n",
    "\n",
    "runner = Runner(pipeline, exp)\n",
    "runner.eval_system()"
   ]
  },
  {
   "cell_type": "code",
   "execution_count": null,
   "metadata": {},
   "outputs": [],
   "source": []
  },
  {
   "cell_type": "code",
   "execution_count": null,
   "metadata": {},
   "outputs": [],
   "source": []
  }
 ],
 "metadata": {
  "kernelspec": {
   "display_name": "Python 3",
   "language": "python",
   "name": "python3"
  },
  "language_info": {
   "codemirror_mode": {
    "name": "ipython",
    "version": 3
   },
   "file_extension": ".py",
   "mimetype": "text/x-python",
   "name": "python",
   "nbconvert_exporter": "python",
   "pygments_lexer": "ipython3",
   "version": "3.7.2"
  }
 },
 "nbformat": 4,
 "nbformat_minor": 2
}
