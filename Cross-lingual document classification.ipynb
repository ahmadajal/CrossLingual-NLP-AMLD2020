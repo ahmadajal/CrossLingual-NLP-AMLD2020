{
 "cells": [
  {
   "cell_type": "markdown",
   "metadata": {},
   "source": [
    "# Problem description\n",
    "\n",
    "Cross-lingual document classification (CLDC) is the text mining problem where we are given:\n",
    "- labeled documents for training in a source language $\\ell_1$, and \n",
    "- test documents written in a target language $\\ell_2$. \n",
    "\n",
    "For example, the training documents are written in English, and the test documents are written in French. \n",
    "\n",
    "\n",
    "CLDC is an interesting problem. The hope is that we can use resource-rich languages to train models that can be applied to resource-deprived languages. This would result in transferring knowledge from one language to another. \n",
    "There are several methods that can be used in this context. In this workshop we start from naive approaches and progressively introduce more complex solutions. \n",
    "\n",
    "The most naive solution is to ignore the fact the training and test documents are written in different languages.  "
   ]
  },
  {
   "cell_type": "code",
   "execution_count": 1,
   "metadata": {},
   "outputs": [],
   "source": [
    "import pandas as pd\n",
    "from ast import literal_eval\n",
    "from sklearn.metrics import accuracy_score\n",
    "from sklearn.feature_extraction.text import CountVectorizer, TfidfVectorizer\n",
    "from sklearn.linear_model import LogisticRegression\n",
    "from sklearn.pipeline import Pipeline, make_pipeline\n",
    "from sklearn.dummy import DummyClassifier"
   ]
  },
  {
   "cell_type": "markdown",
   "metadata": {},
   "source": [
    "1. Dataset: holds the data of sources and target language\n",
    "2. System: This is a set of steps: Does fit, predict. Can be in the form of a pipeline also\n",
    "3. Experiment: Given a Dataset and a System it fits, predicts and reports evaluation scores"
   ]
  },
  {
   "cell_type": "code",
   "execution_count": 2,
   "metadata": {},
   "outputs": [],
   "source": [
    "class Dataset:\n",
    "    \"\"\"Experiment class, that reads data in raw format and prints stats.\"\"\"\n",
    "    def __init__(self, source_lang, target_lang):\n",
    "        self.source_lang = source_lang\n",
    "        self.target_lang = target_lang\n",
    "        self.tr_path = \"./semeveal15_sentiment_datasets/semeval15.%s.train.csv\" % source_lang\n",
    "        self.te_path = \"./semeveal15_sentiment_datasets/semeval15.%s.test.csv\" % target_lang\n",
    "    \n",
    "    @staticmethod\n",
    "    def read_csv(path):\n",
    "        df = pd.read_csv(path)\n",
    "        df['polarities'] = df['polarities'].apply(lambda l: literal_eval(l))\n",
    "        df = df.loc[df.polarities.astype(bool)]\n",
    "        df['sentiment'] = df['polarities'].apply(lambda l: l[0])\n",
    "        return df[['text', 'sentiment']]\n",
    "\n",
    "    def load_data(self):\n",
    "        training = self.read_csv(self.tr_path)\n",
    "        test = self.read_csv(self.te_path)\n",
    "        print(\"\\nTraining data\\n==========\")\n",
    "        self.calculate_stats(training)\n",
    "        print(\"\\nTraining data\\n==========\")\n",
    "        self.calculate_stats(test)\n",
    "        self.train, self.y_train = training.text.values, training.sentiment.values\n",
    "        self.test, self.y_test = test.text.values, test.sentiment.values\n",
    "\n",
    "    def calculate_stats(self, df):\n",
    "        print(\"Training Data Shape: \", df.shape)\n",
    "        print(\"Class distribution: \", df.sentiment.value_counts().to_dict())\n",
    "\n",
    "        \n",
    "class Runner:\n",
    "    def __init__(self, pipeline, experiment):\n",
    "        self.pipeline = pipeline\n",
    "        self.experiment = experiment\n",
    "        self.experiment.load_data()\n",
    "        \n",
    "    def score(self, preds):\n",
    "        return accuracy_score(exp.y_test, preds)\n",
    "    \n",
    "    def eval_system(self):\n",
    "        pipeline.fit(exp.train, exp.y_train)\n",
    "        preds = pipeline.predict(exp.test)\n",
    "        scores = self.score(preds)\n",
    "        return scores"
   ]
  },
  {
   "cell_type": "code",
   "execution_count": 3,
   "metadata": {},
   "outputs": [],
   "source": [
    "exp = Dataset(\"en\", \"es\")\n"
   ]
  },
  {
   "cell_type": "code",
   "execution_count": 4,
   "metadata": {},
   "outputs": [
    {
     "name": "stdout",
     "output_type": "stream",
     "text": [
      "\n",
      "Training data\n",
      "==========\n",
      "Training Data Shape:  (1708, 2)\n",
      "Class distribution:  {'positive': 1114, 'negative': 516, 'neutral': 78}\n",
      "\n",
      "Training data\n",
      "==========\n",
      "Training Data Shape:  (677, 2)\n",
      "Class distribution:  {'positive': 456, 'negative': 188, 'neutral': 33}\n"
     ]
    },
    {
     "data": {
      "text/plain": [
       "0.5494830132939439"
      ]
     },
     "execution_count": 4,
     "metadata": {},
     "output_type": "execute_result"
    }
   ],
   "source": [
    "# Majority Class\n",
    "pipeline = Pipeline([('vectorizer', CountVectorizer()), \n",
    "                     ('classifier', DummyClassifier())])\n",
    "runner = Runner(pipeline, exp)\n",
    "runner.eval_system()"
   ]
  },
  {
   "cell_type": "code",
   "execution_count": 5,
   "metadata": {},
   "outputs": [
    {
     "name": "stdout",
     "output_type": "stream",
     "text": [
      "\n",
      "Training data\n",
      "==========\n",
      "Training Data Shape:  (1708, 2)\n",
      "Class distribution:  {'positive': 1114, 'negative': 516, 'neutral': 78}\n",
      "\n",
      "Training data\n",
      "==========\n",
      "Training Data Shape:  (677, 2)\n",
      "Class distribution:  {'positive': 456, 'negative': 188, 'neutral': 33}\n"
     ]
    },
    {
     "name": "stderr",
     "output_type": "stream",
     "text": [
      "/Users/gbalikas/anaconda3/lib/python3.6/site-packages/sklearn/linear_model/logistic.py:433: FutureWarning: Default solver will be changed to 'lbfgs' in 0.22. Specify a solver to silence this warning.\n",
      "  FutureWarning)\n",
      "/Users/gbalikas/anaconda3/lib/python3.6/site-packages/sklearn/linear_model/logistic.py:460: FutureWarning: Default multi_class will be changed to 'auto' in 0.22. Specify the multi_class option to silence this warning.\n",
      "  \"this warning.\", FutureWarning)\n"
     ]
    },
    {
     "data": {
      "text/plain": [
       "0.7031019202363368"
      ]
     },
     "execution_count": 5,
     "metadata": {},
     "output_type": "execute_result"
    }
   ],
   "source": [
    "# Logistic Regression on words\n",
    "runner = Runner(pipeline, exp)\n",
    "pipeline = Pipeline([('vectorizer', CountVectorizer()), \n",
    "                     ('classifier', LogisticRegression())])\n",
    "runner.eval_system()"
   ]
  },
  {
   "cell_type": "code",
   "execution_count": null,
   "metadata": {},
   "outputs": [],
   "source": []
  }
 ],
 "metadata": {
  "kernelspec": {
   "display_name": "Python 3",
   "language": "python",
   "name": "python3"
  },
  "language_info": {
   "codemirror_mode": {
    "name": "ipython",
    "version": 3
   },
   "file_extension": ".py",
   "mimetype": "text/x-python",
   "name": "python",
   "nbconvert_exporter": "python",
   "pygments_lexer": "ipython3",
   "version": "3.6.8"
  }
 },
 "nbformat": 4,
 "nbformat_minor": 2
}
