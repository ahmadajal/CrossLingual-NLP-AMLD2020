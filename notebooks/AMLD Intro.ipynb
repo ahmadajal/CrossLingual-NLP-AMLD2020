{
 "cells": [
  {
   "cell_type": "markdown",
   "metadata": {},
   "source": [
    "## Language is hard! \n",
    "\n",
    "Take a look at the following sentences: \n",
    "1. Jane went to the store\n",
    "2. went the to Jane store \n",
    "3. Jane went store \n",
    "4. Jane goed store \n",
    "\n",
    "They (try to) express similar meanings, but some feel un-natural!  \n",
    "\n",
    "Several things to handle: \n",
    "- Morphology\n",
    "- Syntax <- touch on this \n",
    "- Semantics/World Knowledge <- touch on this but mostly shallow semantics\n",
    "- Discourse \n",
    "- Pragmatics \n",
    "- Multilinguality <- focus on this\n",
    "\n",
    "## Sentiment classification\n",
    "- binary (positive, negative)\n",
    "- ternary (positive, neutral, negative)\n",
    "- ordinal (image below!)\n",
    "\n",
    "<img src=\"data/images/sentiment-5class.png\">\n",
    "\n",
    "Input (x): a piece of text\n",
    "Output (y): a class/category (sentiment polarity here)\n",
    "How: Train a function $f(x) \\rightarrow y$\n",
    "\n",
    "- How to represent text? \n",
    "- What functions? \n",
    "- How to evaluate performance\n",
    "\n",
    "\n",
    "## Machine learning workflow\n",
    "1. Get data\n",
    "1. Inspect the data\n",
    "1. Preprocess/Clean the data\n",
    "1. Vector Representation\n",
    "1. Modeling \n",
    "1. Evaluation\n",
    "\n",
    "<img src=\"data/images/pipeline.png\">\n",
    "\n",
    "## Text representation: tradictional bag-of-words\n",
    "Given a text, extract the vocabulary, build a vector of dim $|V|$, non-zeros are words that appear. \n",
    "<img src=\"data/images/textVectorization.png\">\n"
   ]
  },
  {
   "cell_type": "code",
   "execution_count": 1,
   "metadata": {},
   "outputs": [
    {
     "name": "stdout",
     "output_type": "stream",
     "text": [
      "['and', 'document', 'first', 'is', 'one', 'second', 'the', 'third', 'this']\n",
      "[[0 1 1 1 0 0 1 0 1]\n",
      " [0 2 0 1 0 1 1 0 1]\n",
      " [1 0 0 1 1 0 1 1 1]\n",
      " [0 1 1 1 0 0 1 0 1]]\n"
     ]
    }
   ],
   "source": [
    "from sklearn.feature_extraction.text import CountVectorizer\n",
    "corpus = ['This is the first document.',\n",
    "'This document is the second document.',\n",
    "'And this is the third one.',\n",
    "'Is this the first document?']\n",
    "\n",
    "vectorizer = CountVectorizer()\n",
    "X = vectorizer.fit_transform(corpus)\n",
    "print(vectorizer.get_feature_names())\n",
    "print(X.toarray())"
   ]
  },
  {
   "cell_type": "markdown",
   "metadata": {},
   "source": [
    "- Words are identified by their ids\n",
    "- Non-zero means a word occurs\n",
    "- The value, is the number of times the word occurs in a sentence"
   ]
  },
  {
   "cell_type": "code",
   "execution_count": 2,
   "metadata": {},
   "outputs": [
    {
     "data": {
      "text/plain": [
       "array([[0, 1, 1, 1, 0, 0, 1, 0, 1],\n",
       "       [0, 1, 1, 1, 0, 0, 1, 0, 1]])"
      ]
     },
     "execution_count": 2,
     "metadata": {},
     "output_type": "execute_result"
    }
   ],
   "source": [
    "vectorizer.transform(['This is the first document', 'is document the first this']).toarray()"
   ]
  },
  {
   "cell_type": "markdown",
   "metadata": {},
   "source": [
    "- order does not matter! Recall the example with Jane ;-)\n",
    "- words like 'and, the' matter the same with words like 'super, great, ..'. This is a limitation. \n",
    "- tf-idf (term frequence, inverse document frequency) is an heuristic that can get us far! "
   ]
  },
  {
   "cell_type": "code",
   "execution_count": 3,
   "metadata": {},
   "outputs": [
    {
     "name": "stdout",
     "output_type": "stream",
     "text": [
      "['and', 'document', 'first', 'is', 'one', 'second', 'the', 'third', 'this']\n",
      "[[0.         0.46979139 0.58028582 0.38408524 0.         0.\n",
      "  0.38408524 0.         0.38408524]\n",
      " [0.         0.6876236  0.         0.28108867 0.         0.53864762\n",
      "  0.28108867 0.         0.28108867]\n",
      " [0.51184851 0.         0.         0.26710379 0.51184851 0.\n",
      "  0.26710379 0.51184851 0.26710379]\n",
      " [0.         0.46979139 0.58028582 0.38408524 0.         0.\n",
      "  0.38408524 0.         0.38408524]]\n"
     ]
    }
   ],
   "source": [
    "from sklearn.feature_extraction.text import TfidfVectorizer\n",
    "corpus = ['This is the first document.',\n",
    "'This document is the second document.',\n",
    "'And this is the third one.',\n",
    "'Is this the first document?']\n",
    "\n",
    "vectorizer = TfidfVectorizer()\n",
    "X = vectorizer.fit_transform(corpus)\n",
    "print(vectorizer.get_feature_names())\n",
    "print(X.toarray())"
   ]
  },
  {
   "cell_type": "markdown",
   "metadata": {},
   "source": [
    "Other tricks and tips: \n",
    "- Recall text is a sequence of symbols. We may care for characters instead of words (think typos) \n",
    "- We may care for longer sequences that single words: New York, not great, ..   "
   ]
  },
  {
   "cell_type": "code",
   "execution_count": 4,
   "metadata": {},
   "outputs": [
    {
     "name": "stdout",
     "output_type": "stream",
     "text": [
      "[' ', '.', '?', 'a', 'c', 'd', 'e', 'f', 'h', 'i', 'm', 'n', 'o', 'r', 's', 't', 'u']\n",
      "[[4 1 0 0 1 1 2 1 2 3 1 1 1 1 3 4 1]\n",
      " [5 1 0 0 3 3 4 0 2 2 2 3 3 0 3 4 2]\n",
      " [5 1 0 1 0 2 2 0 3 3 0 2 1 1 2 3 0]\n",
      " [4 0 1 0 1 1 2 1 2 3 1 1 1 1 3 4 1]]\n"
     ]
    }
   ],
   "source": [
    "# Character grams\n",
    "vectorizer = CountVectorizer(analyzer='char', ngram_range=(1,1)) # This creates character-grams of size 1\n",
    "X = vectorizer.fit_transform(corpus)\n",
    "print(vectorizer.get_feature_names())\n",
    "print(X.toarray())"
   ]
  },
  {
   "cell_type": "markdown",
   "metadata": {},
   "source": [
    "N-grams are sequences of objects (objects {charactets or words}):\n",
    "\n",
    "<img src=\"data/images/ngrams.png\">\n",
    "\n",
    "In this figure notices the sliding window of size 3. While moving from left to right, it generates the possible sequences that will be used to populate the vector representations. \n",
    "\n",
    "\n",
    "**Exercise**: how to get these sequences in Python (in an elegant way)?"
   ]
  },
  {
   "cell_type": "code",
   "execution_count": 5,
   "metadata": {},
   "outputs": [
    {
     "name": "stdout",
     "output_type": "stream",
     "text": [
      "[' d', ' do', ' f', ' fi', ' i', ' is', ' o', ' on', ' s', ' se', ' t', ' th', 'an', 'and', 'co', 'con', 'cu', 'cum', 'd ', 'd d', 'd o', 'd t', 'do', 'doc', 'e ', 'e f', 'e s', 'e t', 'e.', 'ec', 'eco', 'en', 'ent', 'fi', 'fir', 'he', 'he ', 'hi', 'hir', 'his', 'ir', 'ird', 'irs', 'is', 'is ', 'me', 'men', 'nd', 'nd ', 'ne', 'ne.', 'nt', 'nt ', 'nt.', 'nt?', 'oc', 'ocu', 'on', 'ond', 'one', 'rd', 'rd ', 'rs', 'rst', 's ', 's d', 's i', 's t', 'se', 'sec', 'st', 'st ', 't ', 't d', 't i', 't.', 't?', 'th', 'the', 'thi', 'um', 'ume']\n",
      "[[1 1 1 1 1 1 0 0 0 0 1 1 0 0 0 0 1 1 0 0 0 0 1 1 1 1 0 0 0 0 0 1 1 1 1 1\n",
      "  1 1 0 1 1 0 1 2 2 1 1 0 0 0 0 1 0 1 0 1 1 0 0 0 0 0 1 1 2 0 1 1 0 0 1 1\n",
      "  1 1 0 1 0 2 1 1 1 1]\n",
      " [2 2 0 0 1 1 0 0 1 1 1 1 0 0 1 1 2 2 1 1 0 0 2 2 1 0 1 0 0 1 1 2 2 0 0 1\n",
      "  1 1 0 1 0 0 0 2 2 2 2 1 1 0 0 2 1 1 0 2 2 1 1 0 0 0 0 0 2 1 0 1 1 1 0 0\n",
      "  1 0 1 1 0 2 1 1 2 2]\n",
      " [0 0 0 0 1 1 1 1 0 0 3 3 1 1 0 0 0 0 2 0 1 1 0 0 1 0 0 1 1 0 0 0 0 0 0 1\n",
      "  1 2 1 1 1 1 0 2 2 0 0 1 1 1 1 0 0 0 0 0 0 1 0 1 1 1 0 0 2 0 1 1 0 0 0 0\n",
      "  0 0 0 0 0 3 1 2 0 0]\n",
      " [1 1 1 1 0 0 0 0 0 0 2 2 0 0 0 0 1 1 0 0 0 0 1 1 1 1 0 0 0 0 0 1 1 1 1 1\n",
      "  1 1 0 1 1 0 1 2 2 1 1 0 0 0 0 1 0 0 1 1 1 0 0 0 0 0 1 1 2 0 0 2 0 0 1 1\n",
      "  1 1 0 0 1 2 1 1 1 1]]\n"
     ]
    }
   ],
   "source": [
    "# N-grams (can be either char-grams or word-grams)\n",
    "vectorizer = CountVectorizer(analyzer='char', ngram_range=(2,3)) # This creates character-grams of sizes 2 and 3\n",
    "X = vectorizer.fit_transform(corpus)\n",
    "print(vectorizer.get_feature_names())\n",
    "print(X.toarray())"
   ]
  },
  {
   "cell_type": "markdown",
   "metadata": {},
   "source": [
    "All of the above techniques have a common limitation. The do not encode semantics! \n",
    "This means that the vector for `amazing` is completely disimilar from the vector of `great` and the of vector `Laussane`. \n",
    "Can we do better?\n",
    "The answer is yes! Enter, word embeddings. \n",
    "Dense word representation, that can encode the meaning! \n"
   ]
  },
  {
   "cell_type": "code",
   "execution_count": 35,
   "metadata": {},
   "outputs": [],
   "source": [
    "import numpy as np\n",
    "from sklearn.manifold import TSNE\n",
    "vectors = open('data/glove_excerpt.txt').read().strip().split('\\n')\n",
    "vectors = {line.split()[0]:np.array(line.split()[1:]).astype(float) for line in vectors}"
   ]
  },
  {
   "cell_type": "code",
   "execution_count": 36,
   "metadata": {},
   "outputs": [
    {
     "data": {
      "image/png": "[encoded data removed]",
      "text/plain": [
       "<Figure size 360x360 with 1 Axes>"
      ]
     },
     "metadata": {
      "needs_background": "light"
     },
     "output_type": "display_data"
    }
   ],
   "source": [
    "# Let's visualize this, using TSNE, a methods that can reduce the dimensionality of the vectors\n",
    "labels = list(vectors.keys())\n",
    "tokens = list(vectors.values())\n",
    "\n",
    "tsne_model = TSNE(perplexity=1.5, n_components=2, init='pca', n_iter=2500, random_state=23)\n",
    "new_values = tsne_model.fit_transform(tokens)\n",
    "\n",
    "x = new_values[:,0]\n",
    "y = new_values[:,1]\n",
    "\n",
    "plt.figure(figsize=(5, 5)) \n",
    "for i in range(len(x)):\n",
    "    plt.scatter(x[i],y[i])\n",
    "    plt.annotate(labels[i],\n",
    "                 xy=(x[i], y[i]),\n",
    "                 xytext=(5, 2),\n",
    "                 textcoords='offset points',\n",
    "                 ha='right',\n",
    "                 va='bottom')\n"
   ]
  },
  {
   "cell_type": "markdown",
   "metadata": {},
   "source": [
    "This is a great result for several reasons:\n",
    "- families of similar words are close between them\n",
    "- Some of them encode some syntax (magnificent and amazing) need similar vectors to approach their adverds! "
   ]
  },
  {
   "cell_type": "code",
   "execution_count": null,
   "metadata": {},
   "outputs": [],
   "source": []
  }
 ],
 "metadata": {
  "kernelspec": {
   "display_name": "Python 3",
   "language": "python",
   "name": "python3"
  },
  "language_info": {
   "codemirror_mode": {
    "name": "ipython",
    "version": 3
   },
   "file_extension": ".py",
   "mimetype": "text/x-python",
   "name": "python",
   "nbconvert_exporter": "python",
   "pygments_lexer": "ipython3",
   "version": "3.7.2"
  }
 },
 "nbformat": 4,
 "nbformat_minor": 2
}
